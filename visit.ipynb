{
 "cells": [
  {
   "cell_type": "code",
   "execution_count": null,
   "metadata": {},
   "outputs": [],
   "source": [
    "# Import libraries for data analysis and visualization (pandas, numpy, matplotlib, seaborn)\n",
    "import pandas as pd \n",
    "import numpy as np\n",
    "import matplotlib.pyplot as plt\n",
    "import seaborn as sns"
   ]
  },
  {
   "cell_type": "code",
   "execution_count": null,
   "metadata": {},
   "outputs": [],
   "source": [
    "# Load tourism dataset from CSV file into a Pandas DataFrame\n",
    "Tourism_df = pd.read_csv(r\"D:\\TRANSACTION PROJECT\\Full Tourism Data.csv\")"
   ]
  },
  {
   "cell_type": "code",
   "execution_count": null,
   "metadata": {},
   "outputs": [],
   "source": [
    "# Display the first two rows of the tourism dataset\n",
    "Tourism_df.head(2)"
   ]
  },
  {
   "cell_type": "code",
   "execution_count": null,
   "metadata": {},
   "outputs": [],
   "source": [
    "# Count the number of duplicate rows in the tourism dataset\n",
    "Tourism_df.duplicated().sum()"
   ]
  },
  {
   "cell_type": "code",
   "execution_count": null,
   "metadata": {},
   "outputs": [],
   "source": [
    "# Check for missing values in the tourism dataset\n",
    "Tourism_df.isna().sum()"
   ]
  },
  {
   "cell_type": "code",
   "execution_count": null,
   "metadata": {},
   "outputs": [],
   "source": [
    "# Apply SMOTE to balance the dataset after encoding categorical features\n",
    "from imblearn.over_sampling import SMOTE\n",
    "from sklearn.preprocessing import OneHotEncoder, LabelEncoder\n",
    "import pandas as pd\n",
    "\n",
    "# Step 1: Drop Unnecessary Columns & Separate Target Variable\n",
    "X = Tourism_df.drop(columns=['TransactionId', 'Rating', 'ContenentId', 'RegionId', \n",
    "                             'CountryId', 'CityId', 'AttractionAddress', \n",
    "                             'AttractionTypeId', 'VisitModeName'])\n",
    "y = Tourism_df['VisitModeName']\n",
    "\n",
    "# Step 2: Apply One-Hot Encoding to Categorical Features\n",
    "X = pd.get_dummies(X, drop_first=True)  # Converts categorical to one-hot encoded\n",
    "\n",
    "# Step 3: Label Encode the Target Variable (y)\n",
    "label_encoder = LabelEncoder()\n",
    "y = label_encoder.fit_transform(y)\n",
    "\n",
    "# Step 4: Apply SMOTE\n",
    "smote = SMOTE(random_state=42)\n",
    "X_smote, y_smote = smote.fit_resample(X, y)\n",
    "\n",
    "# Step 5: Convert y_smote Back to DataFrame and Merge\n",
    "y_smote = pd.DataFrame(y_smote, columns=['VisitModeName'])\n",
    "balanced_tourism_data = pd.concat([X_smote, y_smote], axis=1)\n",
    "\n",
    "# Step 6: Print Class Distribution Before & After SMOTE\n",
    "print(\"Before SMOTE:\")\n",
    "print(pd.Series(y).value_counts())\n",
    "\n",
    "print(\"\\nAfter SMOTE:\")\n",
    "print(y_smote['VisitModeName'].value_counts())\n"
   ]
  },
  {
   "cell_type": "code",
   "execution_count": null,
   "metadata": {},
   "outputs": [],
   "source": [
    "# Display the first few rows of the balanced tourism dataset\n",
    "balanced_tourism_data.head()"
   ]
  },
  {
   "cell_type": "code",
   "execution_count": null,
   "metadata": {},
   "outputs": [],
   "source": [
    "# Import libraries for data preprocessing, model training, and evaluation (train_test_split, OneHotEncoder, StandardScaler, DecisionTreeClassifier, and classification metrics)\n",
    "from sklearn.model_selection import train_test_split\n",
    "from sklearn.preprocessing import OneHotEncoder, StandardScaler\n",
    "from sklearn.tree import DecisionTreeClassifier\n",
    "from sklearn.metrics import accuracy_score,precision_score,recall_score,f1_score"
   ]
  },
  {
   "cell_type": "code",
   "execution_count": null,
   "metadata": {},
   "outputs": [],
   "source": [
    "# Train and evaluate Decision Tree and Random Forest classifiers on balanced data\n",
    "from sklearn.model_selection import train_test_split\n",
    "from sklearn.tree import DecisionTreeClassifier\n",
    "from sklearn.ensemble import RandomForestClassifier\n",
    "from sklearn.metrics import accuracy_score, precision_score, recall_score, f1_score\n",
    "\n",
    "# Step 1: Split Data (80% Train, 20% Test)\n",
    "X_train, X_test, y_train, y_test = train_test_split(X_smote, y_smote, test_size=0.2, random_state=42, stratify=y_smote)\n",
    "\n",
    "# Step 2: Train Decision Tree Model\n",
    "dt_model = DecisionTreeClassifier(max_depth=5, random_state=42)\n",
    "dt_model.fit(X_train, y_train)\n",
    "\n",
    "# Step 3: Train Random Forest Model\n",
    "rf_model = RandomForestClassifier(n_estimators=100, max_depth=5, random_state=42)\n",
    "rf_model.fit(X_train, y_train)\n",
    "\n",
    "# Step 4: Make Predictions\n",
    "dt_pred = dt_model.predict(X_test)\n",
    "rf_pred = rf_model.predict(X_test)\n",
    "\n",
    "# Step 5: Evaluate Models\n",
    "def evaluate_model(model_name, y_true, y_pred):\n",
    "    print(f\"\\n{model_name} Performance:\")\n",
    "    print(f\"Accuracy: {accuracy_score(y_true, y_pred):.4f}\")\n",
    "    print(f\"Precision: {precision_score(y_true, y_pred, average='weighted'):.4f}\")\n",
    "    print(f\"Recall: {recall_score(y_true, y_pred, average='weighted'):.4f}\")\n",
    "    print(f\"F1-Score: {f1_score(y_true, y_pred, average='weighted'):.4f}\")\n",
    "\n",
    "evaluate_model(\"Decision Tree\", y_test, dt_pred)\n",
    "evaluate_model(\"Random Forest\", y_test, rf_pred)\n"
   ]
  },
  {
   "cell_type": "code",
   "execution_count": 91,
   "metadata": {},
   "outputs": [],
   "source": [
    "# Splitting into training and testing sets\n",
    "X_train, X_test, y_train, y_test = train_test_split(X_smote, y_smote, test_size=0.2, random_state=42)"
   ]
  },
  {
   "cell_type": "code",
   "execution_count": 92,
   "metadata": {},
   "outputs": [],
   "source": [
    "# Train Decision Tree Model\n",
    "dt_model = DecisionTreeClassifier(max_depth=5, random_state=42)\n",
    "dt_model.fit(X_train, y_train)\n",
    "\n",
    "# Predict Ratings\n",
    "dt_pred = dt_model.predict(X_test)"
   ]
  },
  {
   "cell_type": "code",
   "execution_count": null,
   "metadata": {},
   "outputs": [],
   "source": [
    "print(dt_pred)"
   ]
  },
  {
   "cell_type": "code",
   "execution_count": null,
   "metadata": {},
   "outputs": [],
   "source": [
    "# Accuracy\n",
    "accuracy = accuracy_score(y_test, dt_pred)\n",
    "\n",
    "# Precision & Recall (For Multi-Class Classification, Use Average='weighted')\n",
    "precision = precision_score(y_test, dt_pred, average='weighted')\n",
    "recall = recall_score(y_test, dt_pred, average='weighted')\n",
    "\n",
    "print(f\"Accuracy: {accuracy:.4f}\")\n",
    "print(f\"Precision: {precision:.4f}\")\n",
    "print(f\"Recall: {recall:.4f}\")\n",
    "\n"
   ]
  },
  {
   "cell_type": "code",
   "execution_count": 43,
   "metadata": {},
   "outputs": [],
   "source": [
    "import joblib"
   ]
  },
  {
   "cell_type": "code",
   "execution_count": null,
   "metadata": {},
   "outputs": [],
   "source": [
    "joblib.dump(dt_model, r\"D:\\TRANSACTION PROJECT\\dc_model.pkl\")"
   ]
  },
  {
   "cell_type": "code",
   "execution_count": 95,
   "metadata": {},
   "outputs": [],
   "source": [
    "from sklearn.ensemble import RandomForestClassifier\n",
    "\n"
   ]
  },
  {
   "cell_type": "code",
   "execution_count": null,
   "metadata": {},
   "outputs": [],
   "source": [
    "# Train Random Forest Model (same approach)\n",
    "rf_model = RandomForestClassifier(n_estimators=100, max_depth=5, random_state=42)\n",
    "rf_model.fit(X_train, y_train)\n",
    "\n",
    "# Predict using Random Forest\n",
    "rf_pred = rf_model.predict(X_test)\n"
   ]
  },
  {
   "cell_type": "code",
   "execution_count": null,
   "metadata": {},
   "outputs": [],
   "source": [
    "rf_pred"
   ]
  },
  {
   "cell_type": "code",
   "execution_count": null,
   "metadata": {},
   "outputs": [],
   "source": [
    "# Accuracy\n",
    "accuracy = accuracy_score(y_test, rf_pred)\n",
    "\n",
    "# Precision & Recall (For Multi-Class Classification, Use Average='weighted')\n",
    "precision = precision_score(y_test, rf_pred, average='weighted')\n",
    "recall = recall_score(y_test, rf_pred, average='weighted')\n",
    "\n",
    "print(f\"Accuracy: {accuracy:.4f}\")\n",
    "print(f\"Precision: {precision:.4f}\")\n",
    "print(f\"Recall: {recall:.4f}\")"
   ]
  },
  {
   "cell_type": "code",
   "execution_count": 99,
   "metadata": {},
   "outputs": [],
   "source": [
    "import xgboost"
   ]
  },
  {
   "cell_type": "code",
   "execution_count": 100,
   "metadata": {},
   "outputs": [],
   "source": [
    "from xgboost import XGBClassifier\n",
    "\n",
    "# Step 1: Initialize XGBoost Classifier\n",
    "xgb_model = XGBClassifier(n_estimators=50, max_depth=3, learning_rate=0.2, random_state=42)\n",
    "\n",
    "# Step 2: Train the Model\n",
    "xgb_model.fit(X_train, y_train)\n",
    "\n",
    "# Step 3: Make Predictions\n",
    "xgb_pred = xgb_model.predict(X_test)"
   ]
  },
  {
   "cell_type": "code",
   "execution_count": null,
   "metadata": {},
   "outputs": [],
   "source": [
    "# Step 4: Evaluate the Model\n",
    "def evaluate_model(model_name, y_true, y_pred):\n",
    "    print(f\"\\n{model_name} Performance:\")\n",
    "    print(f\"Accuracy: {accuracy_score(y_true, y_pred):.4f}\")\n",
    "    print(f\"Precision: {precision_score(y_true, y_pred, average='weighted'):.4f}\")\n",
    "    print(f\"Recall: {recall_score(y_true, y_pred, average='weighted'):.4f}\")\n",
    "    print(f\"F1-Score: {f1_score(y_true, y_pred, average='weighted'):.4f}\")\n",
    "\n",
    "evaluate_model(\"XGBoost\", y_test, xgb_pred)"
   ]
  }
 ],
 "metadata": {
  "kernelspec": {
   "display_name": "Python 3",
   "language": "python",
   "name": "python3"
  },
  "language_info": {
   "codemirror_mode": {
    "name": "ipython",
    "version": 3
   },
   "file_extension": ".py",
   "mimetype": "text/x-python",
   "name": "python",
   "nbconvert_exporter": "python",
   "pygments_lexer": "ipython3",
   "version": "3.12.1"
  }
 },
 "nbformat": 4,
 "nbformat_minor": 2
}
