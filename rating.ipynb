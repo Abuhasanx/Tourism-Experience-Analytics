{
 "cells": [
  {
   "cell_type": "code",
   "execution_count": null,
   "metadata": {},
   "outputs": [],
   "source": [
    "# Connect to MySQL Database 'final_ds' using MySQL Connector\n",
    "import mysql.connector\n",
    "connection= mysql.connector.connect(\n",
    " host= \"localhost\",\n",
    " user= \"root\",\n",
    " password=\"\",\n",
    " database=\"final_ds\"\n",
    " )\n",
    "print(connection)\n",
    "mycursor = connection.cursor()"
   ]
  },
  {
   "cell_type": "code",
   "execution_count": null,
   "metadata": {},
   "outputs": [],
   "source": [
    "# Retrieve and display all tables in the 'final_ds' database\n",
    "mycursor.execute(\"SHOW TABLES;\")"
   ]
  },
  {
   "cell_type": "code",
   "execution_count": null,
   "metadata": {},
   "outputs": [],
   "source": [
    "# Fetch and print all table names from the 'final_ds' database\n",
    "tables = mycursor.fetchall()\n",
    "\n",
    "print(\"Tables in 'final_ds' database:\")\n",
    "for table in tables:\n",
    "    print(table[0])"
   ]
  },
  {
   "cell_type": "code",
   "execution_count": null,
   "metadata": {},
   "outputs": [],
   "source": [
    "# Import pandas for data manipulation and analysis\n",
    "import pandas as pd"
   ]
  },
  {
   "cell_type": "code",
   "execution_count": null,
   "metadata": {},
   "outputs": [],
   "source": [
    "# Create 'joined_1' table by joining 'transaction' and 'user' tables\n",
    "query_1 = \"\"\"\n",
    "CREATE TABLE IF NOT EXISTS joined_1 AS\n",
    "SELECT t.TransactionId, t.UserId, t.VisitYear, t.VisitMonth, t.VisitMode, t.AttractionId, t.Rating,\n",
    "       u.ContenentId, u.RegionId, u.CountryId, u.CityId\n",
    "FROM transaction t\n",
    "INNER JOIN user u ON t.UserId = u.UserId;\n",
    "\"\"\"\n",
    "\n",
    "mycursor.execute(query_1)\n",
    "connection.commit()\n",
    "print(\"Step 1: Created table `joined_1` (transaction + user)\")\n"
   ]
  },
  {
   "cell_type": "code",
   "execution_count": null,
   "metadata": {},
   "outputs": [],
   "source": [
    "# Create 'joined_2' table by joining 'joined_1' with 'continent' table\n",
    "query_2 = \"\"\"\n",
    "CREATE TABLE IF NOT EXISTS joined_2 AS\n",
    "SELECT j1.*, c.Contenent\n",
    "FROM joined_1 j1\n",
    "INNER JOIN continent c ON j1.ContenentId = c.ContenentId;\n",
    "\"\"\"\n",
    "\n",
    "mycursor.execute(query_2)\n",
    "connection.commit()\n",
    "print(\"Step 2: Created table `joined_2` (joined_1 + continent)\")\n"
   ]
  },
  {
   "cell_type": "code",
   "execution_count": null,
   "metadata": {},
   "outputs": [],
   "source": [
    "# Create 'joined_3' table by joining 'joined_2' with 'region' table\n",
    "query_3 = \"\"\"\n",
    "CREATE TABLE IF NOT EXISTS joined_3 AS\n",
    "SELECT j2.*, r.Region\n",
    "FROM joined_2 j2\n",
    "INNER JOIN region r ON j2.RegionId = r.RegionId;\n",
    "\"\"\"\n",
    "\n",
    "mycursor.execute(query_3)\n",
    "connection.commit()\n",
    "print(\"Step 3: Created table `joined_3` (joined_2 + region)\")\n"
   ]
  },
  {
   "cell_type": "code",
   "execution_count": null,
   "metadata": {},
   "outputs": [],
   "source": [
    "# Create 'joined_4' table by joining 'joined_3' with 'country' table\n",
    "query_4 = \"\"\"\n",
    "CREATE TABLE IF NOT EXISTS joined_4 AS\n",
    "SELECT j3.*, co.Country\n",
    "FROM joined_3 j3\n",
    "INNER JOIN country co ON j3.CountryId = co.CountryId;\n",
    "\"\"\"\n",
    "\n",
    "mycursor.execute(query_4)\n",
    "connection.commit()\n",
    "print(\"Step 4: Created table `joined_4` (joined_3 + country)\")\n"
   ]
  },
  {
   "cell_type": "code",
   "execution_count": null,
   "metadata": {},
   "outputs": [],
   "source": [
    "# Create 'joined_5' table by joining 'joined_4' with 'city' table\n",
    "query_5 = \"\"\"\n",
    "CREATE TABLE IF NOT EXISTS joined_5 AS\n",
    "SELECT j4.*, ci.CityName\n",
    "FROM joined_4 j4\n",
    "INNER JOIN city ci ON j4.CityId = ci.CityId;\n",
    "\"\"\"\n",
    "\n",
    "mycursor.execute(query_5)\n",
    "connection.commit()\n",
    "print(\"Step 5: Created table `joined_5` (joined_4 + city)\")\n"
   ]
  },
  {
   "cell_type": "code",
   "execution_count": null,
   "metadata": {},
   "outputs": [],
   "source": [
    "# Create 'joined_6' table by joining 'joined_5' with 'item' (attraction) table\n",
    "query_6 = \"\"\"\n",
    "CREATE TABLE IF NOT EXISTS joined_6 AS\n",
    "SELECT j5.*, it.Attraction, it.AttractionAddress, it.AttractionTypeId\n",
    "FROM joined_5 j5\n",
    "INNER JOIN item it ON j5.AttractionId = it.AttractionId;\n",
    "\"\"\"\n",
    "\n",
    "mycursor.execute(query_6)\n",
    "connection.commit()\n",
    "print(\"Step 6: Created table `joined_6` (joined_5 + item/attraction)\")\n"
   ]
  },
  {
   "cell_type": "code",
   "execution_count": null,
   "metadata": {},
   "outputs": [],
   "source": [
    "# Create 'joined_7' table by joining 'joined_6' with 'type' table\n",
    "query_7 = \"\"\"\n",
    "CREATE TABLE IF NOT EXISTS joined_7 AS\n",
    "SELECT j6.*, t.AttractionType\n",
    "FROM joined_6 j6\n",
    "INNER JOIN type t ON j6.AttractionTypeId = t.AttractionTypeId;\n",
    "\"\"\"\n",
    "\n",
    "mycursor.execute(query_7)\n",
    "connection.commit()\n",
    "print(\"Step 7: Created table `joined_7` (joined_6 + type)\")\n"
   ]
  },
  {
   "cell_type": "code",
   "execution_count": null,
   "metadata": {},
   "outputs": [],
   "source": [
    "# Create 'final_table' by joining 'joined_7' with 'mode' table (Final Step) 🎉\n",
    "query_8 = \"\"\"\n",
    "CREATE TABLE IF NOT EXISTS final_table AS\n",
    "SELECT j7.*, m.VisitMode AS VisitModeName\n",
    "FROM joined_7 j7\n",
    "INNER JOIN mode m ON j7.VisitMode = m.VisitModeId;\n",
    "\"\"\"\n",
    "\n",
    "mycursor.execute(query_8)\n",
    "connection.commit()\n",
    "print(\"Step 8: Created table `final_table` (joined_7 + mode) 🎉 FINAL STEP!\")\n"
   ]
  },
  {
   "cell_type": "code",
   "execution_count": null,
   "metadata": {},
   "outputs": [],
   "source": [
    "# Retrieve data from 'final_table' and convert it into a Pandas DataFrame\n",
    "query_final = \"SELECT * FROM final_table;\"\n",
    "mycursor.execute(query_final)\n",
    "result_final = mycursor.fetchall()\n",
    "columns_final = [desc[0] for desc in mycursor.description]\n",
    "\n",
    "# Convert to DataFrame\n",
    "df_final = pd.DataFrame(result_final, columns=columns_final)\n",
    "\n"
   ]
  },
  {
   "cell_type": "code",
   "execution_count": null,
   "metadata": {},
   "outputs": [],
   "source": [
    "df_final.head(25) # Display first few rows"
   ]
  },
  {
   "cell_type": "code",
   "execution_count": 13,
   "metadata": {},
   "outputs": [],
   "source": [
    "df_final.to_csv(\"Full Tourism Data.csv\",index = False)"
   ]
  }
 ],
 "metadata": {
  "kernelspec": {
   "display_name": "Python 3",
   "language": "python",
   "name": "python3"
  },
  "language_info": {
   "codemirror_mode": {
    "name": "ipython",
    "version": 3
   },
   "file_extension": ".py",
   "mimetype": "text/x-python",
   "name": "python",
   "nbconvert_exporter": "python",
   "pygments_lexer": "ipython3",
   "version": "3.13.0"
  }
 },
 "nbformat": 4,
 "nbformat_minor": 2
}
