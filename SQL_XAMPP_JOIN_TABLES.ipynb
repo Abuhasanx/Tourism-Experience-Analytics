{
 "cells": [
  {
   "cell_type": "code",
   "execution_count": null,
   "metadata": {},
   "outputs": [],
   "source": [
    "# INSTALLS THE MYSQL CONNECTOR PACKAGE FOR PYTHON TO ENABLE DATABASE CONNECTIONS\n",
    "pip install mysql-connector-python"
   ]
  },
  {
   "cell_type": "code",
   "execution_count": null,
   "metadata": {},
   "outputs": [],
   "source": [
    "# IMPORTS THE MYSQL CONNECTOR MODULE TO INTERACT WITH MYSQL DATABASES\n",
    "import mysql.connector"
   ]
  },
  {
   "cell_type": "code",
   "execution_count": null,
   "metadata": {},
   "outputs": [],
   "source": [
    "# ESTABLISHES A CONNECTION TO THE MYSQL DATABASE USING HOST, USERNAME, PASSWORD, AND DATABASE NAME\n",
    "# PRINTS THE CONNECTION OBJECT TO VERIFY SUCCESSFUL CONNECTION\n",
    "# CREATES A CURSOR OBJECT TO EXECUTE SQL QUERIES\n",
    "\n",
    "connection= mysql.connector.connect(\n",
    " host= \"localhost\",\n",
    " user= \"root\",\n",
    " password=\"\",\n",
    " database=\"finalds\"\n",
    " )\n",
    "print(connection)\n",
    "mycursor = connection.cursor()"
   ]
  },
  {
   "cell_type": "code",
   "execution_count": null,
   "metadata": {},
   "outputs": [],
   "source": [
    "# EXECUTES A SQL QUERY TO RETRIEVE ALL TABLES IN THE CONNECTED DATABASE\n",
    "# FETCHES THE RESULT OF THE QUERY CONTAINING ALL TABLE NAMES\n",
    "# PRINTS A HEADER INDICATING THE DATABASE TABLES\n",
    "# ITERATES THROUGH THE FETCHED TABLES AND PRINTS EACH TABLE NAME\n",
    "\n",
    "mycursor.execute(\"SHOW TABLES\")\n",
    "tables = mycursor.fetchall()\n",
    "\n",
    "print(\"Tables in 'transaction_project' database:\")\n",
    "for table in tables:\n",
    "    print(table[0])"
   ]
  },
  {
   "cell_type": "code",
   "execution_count": null,
   "metadata": {},
   "outputs": [],
   "source": [
    "# IMPORTS THE PANDAS LIBRARY FOR DATA MANIPULATION AND ANALYSIS\n",
    "import pandas as pd"
   ]
  },
  {
   "cell_type": "code",
   "execution_count": null,
   "metadata": {},
   "outputs": [
    {
     "name": "stdout",
     "output_type": "stream",
     "text": [
      "Step 1: Created table `joined_1` (transaction + user)\n"
     ]
    }
   ],
   "source": [
    "# DEFINES A SQL QUERY TO CREATE A NEW TABLE 'joined_1' IF IT DOES NOT EXIST\n",
    "# THE TABLE IS POPULATED WITH DATA FROM THE 'transaction' AND 'user' TABLES USING AN INNER JOIN ON 'UserId'\n",
    "# EXECUTES THE SQL QUERY TO CREATE AND POPULATE THE TABLE, COMMITS THE TRANSACTION TO SAVE CHANGES TO THE DATABASE\n",
    "query_1 = \"\"\"\n",
    "CREATE TABLE IF NOT EXISTS joined_1 AS\n",
    "SELECT t.TransactionId, t.UserId, t.VisitYear, t.VisitMonth, t.VisitMode, t.AttractionId, t.Rating,\n",
    "       u.ContenentId, u.RegionId, u.CountryId, u.CityId\n",
    "FROM transaction t\n",
    "INNER JOIN user u ON t.UserId = u.UserId;\n",
    "\"\"\"\n",
    "\n",
    "mycursor.execute(query_1)\n",
    "connection.commit()\n",
    "print(\"Step 1: Created table `joined_1` (transaction + user)\")\n"
   ]
  },
  {
   "cell_type": "code",
   "execution_count": null,
   "metadata": {},
   "outputs": [
    {
     "name": "stdout",
     "output_type": "stream",
     "text": [
      "Step 2: Created table `joined_2` (joined_1 + continent)\n"
     ]
    }
   ],
   "source": [
    "# CREATES 'joined_2' TABLE BY JOINING 'joined_1' AND 'continent' TABLES ON 'ContenentId'\n",
    "# EXECUTES QUERY, COMMITS CHANGES, AND PRINTS CONFIRMATION\n",
    "\n",
    "query_2 = \"\"\"\n",
    "CREATE TABLE IF NOT EXISTS joined_2 AS\n",
    "SELECT j1.*, c.Contenent\n",
    "FROM joined_1 j1\n",
    "INNER JOIN continent c ON j1.ContenentId = c.ContenentId;\n",
    "\"\"\"\n",
    "\n",
    "mycursor.execute(query_2)\n",
    "connection.commit()\n",
    "print(\"Step 2: Created table `joined_2` (joined_1 + continent)\")\n"
   ]
  },
  {
   "cell_type": "code",
   "execution_count": null,
   "metadata": {},
   "outputs": [
    {
     "name": "stdout",
     "output_type": "stream",
     "text": [
      "Step 3: Created table `joined_3` (joined_2 + region)\n"
     ]
    }
   ],
   "source": [
    "# CREATES 'joined_3' TABLE BY JOINING 'joined_2' AND 'region' TABLES ON 'RegionId'\n",
    "# EXECUTES QUERY, COMMITS CHANGES, AND PRINTS CONFIRMATION\n",
    "\n",
    "query_3 = \"\"\"\n",
    "CREATE TABLE IF NOT EXISTS joined_3 AS\n",
    "SELECT j2.*, r.Region\n",
    "FROM joined_2 j2\n",
    "INNER JOIN region r ON j2.RegionId = r.RegionId;\n",
    "\"\"\"\n",
    "\n",
    "mycursor.execute(query_3)\n",
    "connection.commit()\n",
    "print(\"Step 3: Created table `joined_3` (joined_2 + region)\")\n"
   ]
  },
  {
   "cell_type": "code",
   "execution_count": null,
   "metadata": {},
   "outputs": [
    {
     "name": "stdout",
     "output_type": "stream",
     "text": [
      "Step 4: Created table `joined_4` (joined_3 + country)\n"
     ]
    }
   ],
   "source": [
    "# CREATES 'joined_4' TABLE BY JOINING 'joined_3' AND 'country' TABLES ON 'CountryId'\n",
    "# EXECUTES QUERY, COMMITS CHANGES, AND PRINTS CONFIRMATION\n",
    "\n",
    "query_4 = \"\"\"\n",
    "CREATE TABLE IF NOT EXISTS joined_4 AS\n",
    "SELECT j3.*, co.Country\n",
    "FROM joined_3 j3\n",
    "INNER JOIN country co ON j3.CountryId = co.CountryId;\n",
    "\"\"\"\n",
    "\n",
    "mycursor.execute(query_4)\n",
    "connection.commit()\n",
    "print(\"Step 4: Created table `joined_4` (joined_3 + country)\")\n"
   ]
  },
  {
   "cell_type": "code",
   "execution_count": null,
   "metadata": {},
   "outputs": [
    {
     "name": "stdout",
     "output_type": "stream",
     "text": [
      "Step 5: Created table `joined_5` (joined_4 + city)\n"
     ]
    }
   ],
   "source": [
    "# CREATES 'joined_5' TABLE BY JOINING 'joined_4' AND 'city' TABLES ON 'CityId'\n",
    "# EXECUTES QUERY, COMMITS CHANGES, AND PRINTS CONFIRMATION\n",
    "\n",
    "query_5 = \"\"\"\n",
    "CREATE TABLE IF NOT EXISTS joined_5 AS\n",
    "SELECT j4.*, ci.CityName\n",
    "FROM joined_4 j4\n",
    "INNER JOIN city ci ON j4.CityId = ci.CityId;\n",
    "\"\"\"\n",
    "\n",
    "mycursor.execute(query_5)\n",
    "connection.commit()\n",
    "print(\"Step 5: Created table `joined_5` (joined_4 + city)\")\n"
   ]
  },
  {
   "cell_type": "code",
   "execution_count": null,
   "metadata": {},
   "outputs": [
    {
     "name": "stdout",
     "output_type": "stream",
     "text": [
      "Step 6: Created table `joined_6` (joined_5 + item/attraction)\n"
     ]
    }
   ],
   "source": [
    "# CREATES 'joined_6' TABLE BY JOINING 'joined_5' AND 'item' TABLES ON 'AttractionId'\n",
    "# EXECUTES QUERY, COMMITS CHANGES, AND PRINTS CONFIRMATION\n",
    "\n",
    "query_6 = \"\"\"\n",
    "CREATE TABLE IF NOT EXISTS joined_6 AS\n",
    "SELECT j5.*, it.Attraction, it.AttractionAddress, it.AttractionTypeId\n",
    "FROM joined_5 j5\n",
    "INNER JOIN item it ON j5.AttractionId = it.AttractionId;\n",
    "\"\"\"\n",
    "\n",
    "mycursor.execute(query_6)\n",
    "connection.commit()\n",
    "print(\"Step 6: Created table `joined_6` (joined_5 + item/attraction)\")"
   ]
  },
  {
   "cell_type": "code",
   "execution_count": null,
   "metadata": {},
   "outputs": [
    {
     "name": "stdout",
     "output_type": "stream",
     "text": [
      "Step 7: Created table `joined_7` (joined_6 + type)\n"
     ]
    }
   ],
   "source": [
    "# CREATES 'joined_7' TABLE BY JOINING 'joined_6' AND 'type' TABLES ON 'AttractionTypeId'\n",
    "# EXECUTES QUERY, COMMITS CHANGES, AND PRINTS CONFIRMATION\n",
    "\n",
    "query_7 = \"\"\"\n",
    "CREATE TABLE IF NOT EXISTS joined_7 AS\n",
    "SELECT j6.*, t.AttractionType\n",
    "FROM joined_6 j6\n",
    "INNER JOIN type t ON j6.AttractionTypeId = t.AttractionTypeId;\n",
    "\"\"\"\n",
    "\n",
    "mycursor.execute(query_7)\n",
    "connection.commit()\n",
    "print(\"Step 7: Created table `joined_7` (joined_6 + type)\")\n"
   ]
  },
  {
   "cell_type": "code",
   "execution_count": null,
   "metadata": {},
   "outputs": [
    {
     "name": "stdout",
     "output_type": "stream",
     "text": [
      "Step 8: Created table `final_table` (joined_7 + mode) 🎉 FINAL STEP!\n"
     ]
    }
   ],
   "source": [
    "# CREATES 'final_table' BY JOINING 'joined_7' AND 'mode' TABLES ON 'VisitMode'\n",
    "# EXECUTES QUERY, COMMITS CHANGES, AND PRINTS FINAL CONFIRMATION\n",
    "\n",
    "query_8 = \"\"\"\n",
    "CREATE TABLE IF NOT EXISTS final_table AS\n",
    "SELECT j7.*, m.VisitMode AS VisitModeName\n",
    "FROM joined_7 j7\n",
    "INNER JOIN mode m ON j7.VisitMode = m.VisitModeId;\n",
    "\"\"\"\n",
    "\n",
    "mycursor.execute(query_8)\n",
    "connection.commit()\n",
    "print(\"Step 8: Created table `final_table` (joined_7 + mode) FINAL STEP!\")\n"
   ]
  },
  {
   "cell_type": "code",
   "execution_count": null,
   "metadata": {},
   "outputs": [],
   "source": [
    "# SELECTS ALL DATA FROM 'final_table'\n",
    "# EXECUTES QUERY AND FETCHES RESULTS\n",
    "# EXTRACTS COLUMN NAMES FROM CURSOR DESCRIPTION\n",
    "# CREATES A PANDAS DATAFRAME WITH THE FETCHED DATA AND COLUMN NAMES\n",
    "\n",
    "query_final = \"SELECT * FROM final_table;\"\n",
    "mycursor.execute(query_final)\n",
    "result_final = mycursor.fetchall()\n",
    "columns_final = [desc[0] for desc in mycursor.description]\n",
    "\n",
    "df_final = pd.DataFrame(result_final, columns=columns_final)\n"
   ]
  },
  {
   "cell_type": "code",
   "execution_count": null,
   "metadata": {},
   "outputs": [],
   "source": [
    "# DISPLAYS THE FIRST FEW ROWS OF THE FINAL DATAFRAME\n",
    "df_final.head() "
   ]
  },
  {
   "cell_type": "code",
   "execution_count": null,
   "metadata": {},
   "outputs": [],
   "source": [
    "# SAVES THE FINAL DATAFRAME TO A CSV FILE NAMED 'final_ds2.csv' WITHOUT THE INDEX COLUMN\n",
    "df_final.to_csv(\"final_ds2.csv\",index = False)"
   ]
  }
 ],
 "metadata": {
  "kernelspec": {
   "display_name": "Python 3",
   "language": "python",
   "name": "python3"
  },
  "language_info": {
   "codemirror_mode": {
    "name": "ipython",
    "version": 3
   },
   "file_extension": ".py",
   "mimetype": "text/x-python",
   "name": "python",
   "nbconvert_exporter": "python",
   "pygments_lexer": "ipython3",
   "version": "3.11.9"
  }
 },
 "nbformat": 4,
 "nbformat_minor": 2
}
