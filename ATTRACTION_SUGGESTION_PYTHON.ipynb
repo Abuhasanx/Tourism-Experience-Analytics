{
 "cells": [
  {
   "cell_type": "code",
   "execution_count": 1,
   "metadata": {},
   "outputs": [],
   "source": [
    "# IMPORTING NECESSARY LIBRARIES FOR DATA HANDLING,DIMENSIONALITY REDUCTION\n",
    "# SIMILARITY COMPUTATION, AND NEAREST NEIGHBOR SEARCH\n",
    "import pandas as pd\n",
    "from sklearn.decomposition import TruncatedSVD\n",
    "from sklearn.metrics.pairwise import cosine_similarity\n",
    "from sklearn.neighbors import NearestNeighbors\n",
    "import numpy as np"
   ]
  },
  {
   "cell_type": "code",
   "execution_count": 3,
   "metadata": {},
   "outputs": [],
   "source": [
    "# LOADING THE TOURISM DATASET FROM A CSV FILE INTO A DATAFRAME  \n",
    "df = pd.read_csv(r\"D:\\1final ds\\final_ds2.csv\")"
   ]
  },
  {
   "cell_type": "code",
   "execution_count": null,
   "metadata": {},
   "outputs": [],
   "source": [
    "# DISPLAYING THE FIRST FIVE ROWS OF THE DATAFRAME\n",
    "df.head()"
   ]
  },
  {
   "cell_type": "code",
   "execution_count": null,
   "metadata": {},
   "outputs": [],
   "source": [
    "# CHECKING FOR MISSING VALUES IN EACH COLUMN OF THE DATAFRAME\n",
    "df.isna().sum()"
   ]
  },
  {
   "cell_type": "code",
   "execution_count": 6,
   "metadata": {},
   "outputs": [
    {
     "data": {
      "text/plain": [
       "np.int64(0)"
      ]
     },
     "execution_count": 6,
     "metadata": {},
     "output_type": "execute_result"
    }
   ],
   "source": [
    "# COUNTING THE NUMBER OF DUPLICATE ROWS IN THE DATAFRAME\n",
    "df.duplicated().sum()"
   ]
  },
  {
   "cell_type": "code",
   "execution_count": 7,
   "metadata": {},
   "outputs": [],
   "source": [
    "# CREATING A USER-ATTRACTION MATRIX WHERE ROWS REPRESENT USERS, COLUMNS REPRESENT ATTRACTIONS, AND VALUES ARE RATINGS  \n",
    "user_attraction_matrix = df.pivot_table(index=\"UserId\", columns=\"AttractionId\", values=\"Rating\", fill_value=0)"
   ]
  },
  {
   "cell_type": "code",
   "execution_count": 8,
   "metadata": {},
   "outputs": [],
   "source": [
    "# APPLYING TRUNCATED SVD FOR DIMENSIONALITY REDUCTION, KEEPING A MAXIMUM OF 20 COMPONENTS OR THE TOTAL NUMBER OF ATTRACTIONS IF FEWER  \n",
    "n_components = min(20, user_attraction_matrix.shape[1]) \n",
    "svd = TruncatedSVD(n_components=n_components)\n",
    "user_attraction_matrix_reduced = svd.fit_transform(user_attraction_matrix)"
   ]
  },
  {
   "cell_type": "code",
   "execution_count": null,
   "metadata": {},
   "outputs": [],
   "source": [
    "# TRAINING A K-NEAREST NEIGHBORS (KNN) MODEL USING COSINE SIMILARITY TO FIND THE 5 NEAREST NEIGHBORS  \n",
    "knn_model = NearestNeighbors(n_neighbors=5, metric='cosine', algorithm='auto')\n",
    "knn_model.fit(user_attraction_matrix_reduced)"
   ]
  },
  {
   "cell_type": "code",
   "execution_count": 10,
   "metadata": {},
   "outputs": [],
   "source": [
    "# FUNCTION TO RECOMMEND ATTRACTIONS FOR A GIVEN USER BASED ON SIMILAR USERS' PREFERENCES  \n",
    "# USES K-NEAREST NEIGHBORS TO FIND SIMILAR USERS AND SUGGEST UNSEEN ATTRACTIONS WITH THE HIGHEST SCORES  \n",
    "\n",
    "def recommend_attractions(user_id, num_recommendations=5):\n",
    "    if user_id not in user_attraction_matrix.index:\n",
    "        return \"User ID not found! Try with a different ID.\"\n",
    "    \n",
    "   \n",
    "    user_idx = user_attraction_matrix.index.get_loc(user_id)\n",
    "    distances, indices = knn_model.kneighbors([user_attraction_matrix_reduced[user_idx]], n_neighbors=5)\n",
    "    \n",
    "    \n",
    "    similar_users = user_attraction_matrix.index[indices.flatten()[1:]]  \n",
    "\n",
    "    \n",
    "    user_ratings = user_attraction_matrix.loc[user_id]\n",
    "    unseen_attractions = user_ratings[user_ratings == 0].index  \n",
    "\n",
    "   \n",
    "    attraction_scores = {}\n",
    "    for sim_user in similar_users:\n",
    "        for attraction in unseen_attractions:\n",
    "            attraction_scores[attraction] = attraction_scores.get(attraction, 0) + user_attraction_matrix.loc[sim_user, attraction]\n",
    "\n",
    "    \n",
    "    recommended_attractions = sorted(attraction_scores, key=attraction_scores.get, reverse=True)[:num_recommendations]\n",
    "    \n",
    "    return recommended_attractions if recommended_attractions else \"No new recommendations found.\"\n"
   ]
  },
  {
   "cell_type": "code",
   "execution_count": null,
   "metadata": {},
   "outputs": [],
   "source": [
    "# GENERATING AND DISPLAYING ATTRACTION RECOMMENDATIONS FOR A SPECIFIC USER  \n",
    "user_id = 13 \n",
    "recommended = recommend_attractions(user_id)\n",
    "\n",
    "\n",
    "print(f\"Recommended Attractions for User {user_id}: {recommended}\")"
   ]
  },
  {
   "cell_type": "code",
   "execution_count": 12,
   "metadata": {},
   "outputs": [],
   "source": [
    "# IMPORTING METRICS TO EVALUATE MODEL PERFORMANCE, INCLUDING MSE, MAE, AND R-SQUARED SCORE  \n",
    "from sklearn.metrics import mean_squared_error, mean_absolute_error, r2_score"
   ]
  },
  {
   "cell_type": "code",
   "execution_count": null,
   "metadata": {},
   "outputs": [],
   "source": [
    "# EVALUATING THE RECONSTRUCTION QUALITY OF THE SVD MODEL BY COMPARING THE ORIGINAL AND RECONSTRUCTED USER-ATTRACTION MATRIX  \n",
    "# COMPUTING RMSE, MSE, MAE, AND R² SCORE TO ASSESS MODEL PERFORMANCE  \n",
    "reconstructed_matrix = svd.inverse_transform(user_attraction_matrix_reduced)\n",
    "\n",
    "original = user_attraction_matrix.to_numpy()\n",
    "reconstructed = reconstructed_matrix\n",
    "\n",
    "rmse = np.sqrt(mean_squared_error(original, reconstructed))\n",
    "mse = mean_squared_error(original, reconstructed)\n",
    "mae = mean_absolute_error(original, reconstructed)\n",
    "r2 = r2_score(original, reconstructed)\n",
    "\n",
    "print(f\"Reconstruction RMSE: {rmse:.4f}\")\n",
    "print(f\"Reconstruction MSE: {mse:.4f}\")\n",
    "print(f\"Reconstruction MAE: {mae:.4f}\")\n",
    "print(f\"Reconstruction R² Score: {r2:.4f}\")"
   ]
  },
  {
   "cell_type": "code",
   "execution_count": 14,
   "metadata": {},
   "outputs": [],
   "source": [
    "# IMPORTING JOBLIB FOR SAVING AND LOADING MACHINE LEARNING MODELS EFFICIENTLY  \n",
    "import joblib"
   ]
  },
  {
   "cell_type": "code",
   "execution_count": null,
   "metadata": {},
   "outputs": [],
   "source": [
    "# SAVING THE TRAINED SVD MODEL TO A FILE USING JOBLIB FOR FUTURE USE  \n",
    "import joblib\n",
    "joblib.dump(svd, r\"D:\\1final ds\\svd.plk\")"
   ]
  },
  {
   "cell_type": "code",
   "execution_count": null,
   "metadata": {},
   "outputs": [],
   "source": [
    "# SAVING THE DIMENSIONALLY REDUCED USER-ATTRACTION MATRIX FOR FUTURE RECOMMENDATION USE  \n",
    "joblib.dump(user_attraction_matrix_reduced, r\"D:\\1final ds\\user_att.plk\")"
   ]
  },
  {
   "cell_type": "code",
   "execution_count": null,
   "metadata": {},
   "outputs": [],
   "source": [
    "# SAVING THE TRAINED K-NEAREST NEIGHBORS (KNN) MODEL FOR FUTURE RECOMMENDATION PREDICTIONS  \n",
    "joblib.dump(knn_model, r\"D:\\1final ds\\knn.plk\")\n"
   ]
  },
  {
   "cell_type": "code",
   "execution_count": null,
   "metadata": {},
   "outputs": [],
   "source": [
    "# SAVING THE ORIGINAL USER-ATTRACTION MATRIX FOR FUTURE REFERENCE AND RECOMMENDATION PROCESS  \n",
    "joblib.dump(user_attraction_matrix, r\"D:\\1final ds\\useratt2.plk\")\n"
   ]
  }
 ],
 "metadata": {
  "kernelspec": {
   "display_name": "Python 3",
   "language": "python",
   "name": "python3"
  },
  "language_info": {
   "codemirror_mode": {
    "name": "ipython",
    "version": 3
   },
   "file_extension": ".py",
   "mimetype": "text/x-python",
   "name": "python",
   "nbconvert_exporter": "python",
   "pygments_lexer": "ipython3",
   "version": "3.11.9"
  }
 },
 "nbformat": 4,
 "nbformat_minor": 2
}
